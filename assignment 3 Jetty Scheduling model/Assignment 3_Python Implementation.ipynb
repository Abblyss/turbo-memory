{
 "cells": [
  {
   "cell_type": "markdown",
   "metadata": {},
   "source": [
    "# Assignment 3_OPM 662\n",
    "## 1. Formulate and solve the optimization problem\n",
    "### 1, c & d)"
   ]
  },
  {
   "cell_type": "code",
   "execution_count": 1,
   "metadata": {},
   "outputs": [],
   "source": [
    "import pandas as pd\n",
    "import numpy as np\n",
    "import docplex\n",
    "from docplex.mp.model import Model "
   ]
  },
  {
   "cell_type": "markdown",
   "metadata": {},
   "source": [
    "#### Problem Instance 1"
   ]
  },
  {
   "cell_type": "markdown",
   "metadata": {},
   "source": [
    "##### Create the model instance"
   ]
  },
  {
   "cell_type": "code",
   "execution_count": 2,
   "metadata": {},
   "outputs": [],
   "source": [
    "model_P1 = Model(\"JettyScheduling_P1\")"
   ]
  },
  {
   "cell_type": "markdown",
   "metadata": {},
   "source": [
    "##### Define all sets"
   ]
  },
  {
   "cell_type": "code",
   "execution_count": 3,
   "metadata": {},
   "outputs": [],
   "source": [
    "data = pd.ExcelFile(\"inst1.xlsx\")\n",
    "ships = list(data.parse(\"Problem_1\", index_col = 0, header = None, usecols = \"G\", nrows = 8, skiprows = 2).index) #All the ships\n",
    "full_cat = data.parse(\"Problem_1\", index_col = 0, header = 0, usecols = \"G:H\", nrows = 8, skiprows = 1) #The categories of each ship\n",
    "sta_unstrip = list(data.parse(\"Problem_1\", index_col = None, header = 0, usecols = \"B:E\", nrows = 1, skiprows = 1).columns) #All the stations\n",
    "sta = list(map(int, [i.replace(\"P\", \"\") for i in sta_unstrip])) #All the stations' numbers\n",
    "arr = data.parse(\"Problem_1\", index_col = 0, header = 0, usecols = \"J:K\", nrows = 8, skiprows = 1) #Earliest arrival times of ship i\n",
    "unload = data.parse(\"Problem_1\", index_col = None, header = None, usecols = \"B:E\", nrows = 5, skiprows = 2) #Unloading time for ship category c at station alpha\n",
    "big_M = 10000"
   ]
  },
  {
   "cell_type": "code",
   "execution_count": 21,
   "metadata": {},
   "outputs": [
    {
     "name": "stdout",
     "output_type": "stream",
     "text": [
      "['Natalie', 'Neptun', 'Duandra', 'Waldhof', 'Panega', 'Megara', 'Onassis', 'Hansa', 'Carina', 'Atlantic']\n",
      "          category\n",
      "Natalie          2\n",
      "Neptun           2\n",
      "Duandra          3\n",
      "Waldhof          4\n",
      "Panega           1\n",
      "Megara           5\n",
      "Onassis          5\n",
      "Hansa            2\n",
      "Carina           4\n",
      "Atlantic         3\n",
      "[1, 2, 3, 4]\n",
      "          arrival\n",
      "Natalie         1\n",
      "Neptun          3\n",
      "Duandra         2\n",
      "Waldhof         7\n",
      "Panega          7\n",
      "Megara          7\n",
      "Onassis         3\n",
      "Hansa          11\n",
      "Carina          5\n",
      "Atlantic        4\n",
      "      1  2     3     4\n",
      "0     3  5     7  9999\n",
      "1  9999  6     7     9\n",
      "2     4  3     7     2\n",
      "3     5  7  9999     1\n",
      "4     2  5     9     7\n",
      "['P1', 'P2', 'P3', 'P4']\n"
     ]
    }
   ],
   "source": [
    "print(ships)\n",
    "print(full_cat)\n",
    "print(sta)\n",
    "print(arr)\n",
    "print(unload)\n",
    "print(sta_unstrip)"
   ]
  },
  {
   "cell_type": "markdown",
   "metadata": {},
   "source": [
    "##### Define the decision variables"
   ]
  },
  {
   "cell_type": "code",
   "execution_count": 5,
   "metadata": {},
   "outputs": [],
   "source": [
    "X = model_P1.continuous_var_matrix(ships, sta, name = \"start_time\") #The starting time of ship i entering station alpha\n",
    "Y = model_P1.binary_var_dict(((i, j, alpha) for i in ships for j in ships for alpha in sta), name = \"order\") #1 if ship i is directly or indirectly in front of ship j in station alpha\n",
    "W = model_P1.binary_var_matrix(ships, sta, name = \"unload_station\") #1 if ship i unloads at station alpha\n",
    "p = model_P1.continuous_var_matrix(ships, sta, name = \"process_time\") #Processing time for ship i in station alpha"
   ]
  },
  {
   "cell_type": "markdown",
   "metadata": {},
   "source": [
    "##### Define all constraints"
   ]
  },
  {
   "cell_type": "code",
   "execution_count": 6,
   "metadata": {},
   "outputs": [
    {
     "data": {
      "text/plain": [
       "[docplex.mp.LinearConstraint[](process_time_Exxon_1,EQ,unload_station_Exxon_1+1),\n",
       " docplex.mp.LinearConstraint[](process_time_Exxon_2,EQ,4unload_station_Exxon_2+1),\n",
       " docplex.mp.LinearConstraint[](process_time_Exxon_3,EQ,8unload_station_Exxon_3+1),\n",
       " docplex.mp.LinearConstraint[](process_time_Exxon_4,EQ,6unload_station_Exxon_4+1),\n",
       " docplex.mp.LinearConstraint[](process_time_Nina_1,EQ,2unload_station_Nina_1+1),\n",
       " docplex.mp.LinearConstraint[](process_time_Nina_2,EQ,4unload_station_Nina_2+1),\n",
       " docplex.mp.LinearConstraint[](process_time_Nina_3,EQ,6unload_station_Nina_3+1),\n",
       " docplex.mp.LinearConstraint[](process_time_Nina_4,EQ,9998unload_station_Nina_4+1),\n",
       " docplex.mp.LinearConstraint[](process_time_Moers_1,EQ,3unload_station_Moers_1+1),\n",
       " docplex.mp.LinearConstraint[](process_time_Moers_2,EQ,2unload_station_Moers_2+1),\n",
       " docplex.mp.LinearConstraint[](process_time_Moers_3,EQ,6unload_station_Moers_3+1),\n",
       " docplex.mp.LinearConstraint[](process_time_Moers_4,EQ,unload_station_Moers_4+1),\n",
       " docplex.mp.LinearConstraint[](process_time_Tornado_1,EQ,4unload_station_Tornado_1+1),\n",
       " docplex.mp.LinearConstraint[](process_time_Tornado_2,EQ,6unload_station_Tornado_2+1),\n",
       " docplex.mp.LinearConstraint[](process_time_Tornado_3,EQ,9998unload_station_Tornado_3+1),\n",
       " docplex.mp.LinearConstraint[](process_time_Tornado_4,EQ,1),\n",
       " docplex.mp.LinearConstraint[](process_time_Kabul_1,EQ,4unload_station_Kabul_1+1),\n",
       " docplex.mp.LinearConstraint[](process_time_Kabul_2,EQ,6unload_station_Kabul_2+1),\n",
       " docplex.mp.LinearConstraint[](process_time_Kabul_3,EQ,9998unload_station_Kabul_3+1),\n",
       " docplex.mp.LinearConstraint[](process_time_Kabul_4,EQ,1),\n",
       " docplex.mp.LinearConstraint[](process_time_Clausthal_1,EQ,9998unload_station_Clausthal_1+1),\n",
       " docplex.mp.LinearConstraint[](process_time_Clausthal_2,EQ,5unload_station_Clausthal_2+1),\n",
       " docplex.mp.LinearConstraint[](process_time_Clausthal_3,EQ,6unload_station_Clausthal_3+1),\n",
       " docplex.mp.LinearConstraint[](process_time_Clausthal_4,EQ,8unload_station_Clausthal_4+1),\n",
       " docplex.mp.LinearConstraint[](process_time_Opladen_1,EQ,unload_station_Opladen_1+1),\n",
       " docplex.mp.LinearConstraint[](process_time_Opladen_2,EQ,4unload_station_Opladen_2+1),\n",
       " docplex.mp.LinearConstraint[](process_time_Opladen_3,EQ,8unload_station_Opladen_3+1),\n",
       " docplex.mp.LinearConstraint[](process_time_Opladen_4,EQ,6unload_station_Opladen_4+1),\n",
       " docplex.mp.LinearConstraint[](process_time_Herta_1,EQ,unload_station_Herta_1+1),\n",
       " docplex.mp.LinearConstraint[](process_time_Herta_2,EQ,4unload_station_Herta_2+1),\n",
       " docplex.mp.LinearConstraint[](process_time_Herta_3,EQ,8unload_station_Herta_3+1),\n",
       " docplex.mp.LinearConstraint[](process_time_Herta_4,EQ,6unload_station_Herta_4+1)]"
      ]
     },
     "execution_count": 6,
     "metadata": {},
     "output_type": "execute_result"
    }
   ],
   "source": [
    "model_P1.add_constraints(X[i,1] >= arr.loc[i,\"arrival\"] for i in ships) #The earliest start time into station 1 is not earlier than the earliest arrival time\n",
    "model_P1.add_constraints(X[i,alpha+1] >= X[i,alpha]+p[i,alpha] for i in ships for alpha in range(1, len(sta))) #The earliest start time for ship i to enter the next station is only after ship i finishes processing in the previous station\n",
    "model_P1.add_constraints(X[j,alpha] >= X[i,alpha]+p[i,alpha]+(Y[i,j,alpha]-1)*big_M for i in ships for j in ships if j!=i for alpha in sta) #Ship j can only start after ship i finish processing in station i if it is behind ship i, otherwise ship j can start at any time (under other constraints) in station i\n",
    "model_P1.add_constraints(X[j,alpha] >= X[i,alpha]+X[i,alpha+1]-X[i,alpha]+(Y[i,j,alpha]-1)*big_M for i in ships for j in ships if j!=i for alpha in range(1, len(sta))) #Another constraints for ship j to be only able to start after ship i finish processing in station i if it is behind ship i, otherwise ship j can start at any time (under other constraints) in station i \n",
    "model_P1.add_constraints(Y[i,j,alpha]+Y[j,i,alpha] == 1 for i in ships for j in ships if j!=i for alpha in sta) #Ensure that either ship i is in front of ship j or ship j is in front of ship i\n",
    "model_P1.add_constraints(Y[i,j,alpha] == Y[i,j,alpha+1] for i in ships for j in ships if j!=i for alpha in range(1, len(sta))) #If ship i is in front ship j in station alpha, ship i should also be in front of ship j in other stations\n",
    "model_P1.add_constraints(model_P1.sum(W[i,alpha] for alpha in sta) == 1 for i in ships) #Each ship i can only unload in one station\n",
    "model_P1.add_constraints(p[i,alpha] == 1+W[i,alpha]*(unload.loc[full_cat.loc[i,\"category\"]-1,alpha]-1) for i in ships for alpha in sta)#Processing time in the station is either 1 (when pass by) or the unloading time"
   ]
  },
  {
   "cell_type": "markdown",
   "metadata": {},
   "source": [
    "##### Define linear expression"
   ]
  },
  {
   "cell_type": "code",
   "execution_count": 7,
   "metadata": {},
   "outputs": [],
   "source": [
    "J = model_P1.sum(X[i,4]+p[i,4]-arr.loc[i,\"arrival\"] for i in ships)"
   ]
  },
  {
   "cell_type": "markdown",
   "metadata": {},
   "source": [
    "##### Define the objective function"
   ]
  },
  {
   "cell_type": "code",
   "execution_count": 8,
   "metadata": {},
   "outputs": [],
   "source": [
    "model_P1.minimize(J)"
   ]
  },
  {
   "cell_type": "markdown",
   "metadata": {},
   "source": [
    "##### Solve the model"
   ]
  },
  {
   "cell_type": "code",
   "execution_count": 9,
   "metadata": {},
   "outputs": [
    {
     "data": {
      "text/plain": [
       "docplex.mp.solution.SolveSolution(obj=64,values={start_time_Exxon_1:2,st.."
      ]
     },
     "execution_count": 9,
     "metadata": {},
     "output_type": "execute_result"
    }
   ],
   "source": [
    "model_P1.solve()"
   ]
  },
  {
   "cell_type": "code",
   "execution_count": 10,
   "metadata": {},
   "outputs": [
    {
     "name": "stdout",
     "output_type": "stream",
     "text": [
      "* model JettyScheduling_P1 solved with objective = 64.000\n",
      "Model: JettyScheduling_P1\n",
      " - number of variables: 352\n",
      "   - binary=288, integer=0, continuous=64\n",
      " - number of constraints: 856\n",
      "   - linear=856\n",
      " - parameters: defaults\n",
      " - objective: minimize\n",
      " - problem type is: MILP\n",
      "objective: 64.000\n",
      "  start_time_Exxon_1=2.000\n",
      "  start_time_Exxon_2=4.000\n",
      "  start_time_Exxon_3=5.000\n",
      "  start_time_Exxon_4=6.000\n",
      "  start_time_Nina_1=10.000\n",
      "  start_time_Nina_2=13.000\n",
      "  start_time_Nina_3=14.000\n",
      "  start_time_Nina_4=15.000\n",
      "  start_time_Moers_1=5.000\n",
      "  start_time_Moers_2=6.000\n",
      "  start_time_Moers_3=7.000\n",
      "  start_time_Moers_4=8.000\n",
      "  start_time_Tornado_1=4.000\n",
      "  start_time_Tornado_2=5.000\n",
      "  start_time_Tornado_3=6.000\n",
      "  start_time_Tornado_4=7.000\n",
      "  start_time_Kabul_1=1.000\n",
      "  start_time_Kabul_2=2.000\n",
      "  start_time_Kabul_3=3.000\n",
      "  start_time_Kabul_4=4.000\n",
      "  start_time_Clausthal_1=13.000\n",
      "  start_time_Clausthal_2=14.000\n",
      "  start_time_Clausthal_3=20.000\n",
      "  start_time_Clausthal_4=21.000\n",
      "  start_time_Opladen_1=6.000\n",
      "  start_time_Opladen_2=8.000\n",
      "  start_time_Opladen_3=9.000\n",
      "  start_time_Opladen_4=10.000\n",
      "  start_time_Herta_1=8.000\n",
      "  start_time_Herta_2=10.000\n",
      "  start_time_Herta_3=11.000\n",
      "  start_time_Herta_4=12.000\n",
      "  order_Exxon_Nina_1=1\n",
      "  order_Exxon_Nina_2=1\n",
      "  order_Exxon_Nina_3=1\n",
      "  order_Exxon_Nina_4=1\n",
      "  order_Exxon_Moers_1=1\n",
      "  order_Exxon_Moers_2=1\n",
      "  order_Exxon_Moers_3=1\n",
      "  order_Exxon_Moers_4=1\n",
      "  order_Exxon_Tornado_1=1\n",
      "  order_Exxon_Tornado_2=1\n",
      "  order_Exxon_Tornado_3=1\n",
      "  order_Exxon_Tornado_4=1\n",
      "  order_Exxon_Clausthal_1=1\n",
      "  order_Exxon_Clausthal_2=1\n",
      "  order_Exxon_Clausthal_3=1\n",
      "  order_Exxon_Clausthal_4=1\n",
      "  order_Exxon_Opladen_1=1\n",
      "  order_Exxon_Opladen_2=1\n",
      "  order_Exxon_Opladen_3=1\n",
      "  order_Exxon_Opladen_4=1\n",
      "  order_Exxon_Herta_1=1\n",
      "  order_Exxon_Herta_2=1\n",
      "  order_Exxon_Herta_3=1\n",
      "  order_Exxon_Herta_4=1\n",
      "  order_Nina_Clausthal_1=1\n",
      "  order_Nina_Clausthal_2=1\n",
      "  order_Nina_Clausthal_3=1\n",
      "  order_Nina_Clausthal_4=1\n",
      "  order_Moers_Nina_1=1\n",
      "  order_Moers_Nina_2=1\n",
      "  order_Moers_Nina_3=1\n",
      "  order_Moers_Nina_4=1\n",
      "  order_Moers_Clausthal_1=1\n",
      "  order_Moers_Clausthal_2=1\n",
      "  order_Moers_Clausthal_3=1\n",
      "  order_Moers_Clausthal_4=1\n",
      "  order_Moers_Opladen_1=1\n",
      "  order_Moers_Opladen_2=1\n",
      "  order_Moers_Opladen_3=1\n",
      "  order_Moers_Opladen_4=1\n",
      "  order_Moers_Herta_1=1\n",
      "  order_Moers_Herta_2=1\n",
      "  order_Moers_Herta_3=1\n",
      "  order_Moers_Herta_4=1\n",
      "  order_Tornado_Nina_1=1\n",
      "  order_Tornado_Nina_2=1\n",
      "  order_Tornado_Nina_3=1\n",
      "  order_Tornado_Nina_4=1\n",
      "  order_Tornado_Moers_1=1\n",
      "  order_Tornado_Moers_2=1\n",
      "  order_Tornado_Moers_3=1\n",
      "  order_Tornado_Moers_4=1\n",
      "  order_Tornado_Kabul_1=-0\n",
      "  order_Tornado_Kabul_2=-0\n",
      "  order_Tornado_Kabul_3=-0\n",
      "  order_Tornado_Kabul_4=-0\n",
      "  order_Tornado_Clausthal_1=1\n",
      "  order_Tornado_Clausthal_2=1\n",
      "  order_Tornado_Clausthal_3=1\n",
      "  order_Tornado_Clausthal_4=1\n",
      "  order_Tornado_Opladen_1=1\n",
      "  order_Tornado_Opladen_2=1\n",
      "  order_Tornado_Opladen_3=1\n",
      "  order_Tornado_Opladen_4=1\n",
      "  order_Tornado_Herta_1=1\n",
      "  order_Tornado_Herta_2=1\n",
      "  order_Tornado_Herta_3=1\n",
      "  order_Tornado_Herta_4=1\n",
      "  order_Kabul_Exxon_1=1\n",
      "  order_Kabul_Exxon_2=1\n",
      "  order_Kabul_Exxon_3=1\n",
      "  order_Kabul_Exxon_4=1\n",
      "  order_Kabul_Nina_1=1\n",
      "  order_Kabul_Nina_2=1\n",
      "  order_Kabul_Nina_3=1\n",
      "  order_Kabul_Nina_4=1\n",
      "  order_Kabul_Moers_1=1\n",
      "  order_Kabul_Moers_2=1\n",
      "  order_Kabul_Moers_3=1\n",
      "  order_Kabul_Moers_4=1\n",
      "  order_Kabul_Tornado_1=1\n",
      "  order_Kabul_Tornado_2=1\n",
      "  order_Kabul_Tornado_3=1\n",
      "  order_Kabul_Tornado_4=1\n",
      "  order_Kabul_Clausthal_1=1\n",
      "  order_Kabul_Clausthal_2=1\n",
      "  order_Kabul_Clausthal_3=1\n",
      "  order_Kabul_Clausthal_4=1\n",
      "  order_Kabul_Opladen_1=1\n",
      "  order_Kabul_Opladen_2=1\n",
      "  order_Kabul_Opladen_3=1\n",
      "  order_Kabul_Opladen_4=1\n",
      "  order_Kabul_Herta_1=1\n",
      "  order_Kabul_Herta_2=1\n",
      "  order_Kabul_Herta_3=1\n",
      "  order_Kabul_Herta_4=1\n",
      "  order_Opladen_Nina_1=1\n",
      "  order_Opladen_Nina_2=1\n",
      "  order_Opladen_Nina_3=1\n",
      "  order_Opladen_Nina_4=1\n",
      "  order_Opladen_Clausthal_1=1\n",
      "  order_Opladen_Clausthal_2=1\n",
      "  order_Opladen_Clausthal_3=1\n",
      "  order_Opladen_Clausthal_4=1\n",
      "  order_Opladen_Herta_1=1\n",
      "  order_Opladen_Herta_2=1\n",
      "  order_Opladen_Herta_3=1\n",
      "  order_Opladen_Herta_4=1\n",
      "  order_Herta_Nina_1=1\n",
      "  order_Herta_Nina_2=1\n",
      "  order_Herta_Nina_3=1\n",
      "  order_Herta_Nina_4=1\n",
      "  order_Herta_Clausthal_1=1\n",
      "  order_Herta_Clausthal_2=1\n",
      "  order_Herta_Clausthal_3=1\n",
      "  order_Herta_Clausthal_4=1\n",
      "  unload_station_Exxon_1=1\n",
      "  unload_station_Nina_1=1\n",
      "  unload_station_Moers_4=1\n",
      "  unload_station_Tornado_4=1\n",
      "  unload_station_Kabul_4=1\n",
      "  unload_station_Clausthal_2=1\n",
      "  unload_station_Opladen_1=1\n",
      "  unload_station_Herta_1=1\n",
      "  process_time_Exxon_1=2.000\n",
      "  process_time_Exxon_2=1.000\n",
      "  process_time_Exxon_3=1.000\n",
      "  process_time_Exxon_4=1.000\n",
      "  process_time_Nina_1=3.000\n",
      "  process_time_Nina_2=1.000\n",
      "  process_time_Nina_3=1.000\n",
      "  process_time_Nina_4=1.000\n",
      "  process_time_Moers_1=1.000\n",
      "  process_time_Moers_2=1.000\n",
      "  process_time_Moers_3=1.000\n",
      "  process_time_Moers_4=2.000\n",
      "  process_time_Tornado_1=1.000\n",
      "  process_time_Tornado_2=1.000\n",
      "  process_time_Tornado_3=1.000\n",
      "  process_time_Tornado_4=1.000\n",
      "  process_time_Kabul_1=1.000\n",
      "  process_time_Kabul_2=1.000\n",
      "  process_time_Kabul_3=1.000\n",
      "  process_time_Kabul_4=1.000\n",
      "  process_time_Clausthal_1=1.000\n",
      "  process_time_Clausthal_2=6.000\n",
      "  process_time_Clausthal_3=1.000\n",
      "  process_time_Clausthal_4=1.000\n",
      "  process_time_Opladen_1=2.000\n",
      "  process_time_Opladen_2=1.000\n",
      "  process_time_Opladen_3=1.000\n",
      "  process_time_Opladen_4=1.000\n",
      "  process_time_Herta_1=2.000\n",
      "  process_time_Herta_2=1.000\n",
      "  process_time_Herta_3=1.000\n",
      "  process_time_Herta_4=1.000\n"
     ]
    }
   ],
   "source": [
    "model_P1.solve_details\n",
    "model_P1.report()\n",
    "model_P1.print_information()\n",
    "model_P1.print_solution()"
   ]
  },
  {
   "cell_type": "markdown",
   "metadata": {},
   "source": [
    "##### Store the results"
   ]
  },
  {
   "cell_type": "code",
   "execution_count": 11,
   "metadata": {
    "scrolled": false
   },
   "outputs": [],
   "source": [
    "headers_unload_P1 = [\"index\",\"name\", \"order\", \"earliest arrival time\", \"start time\", \"unload at station\"]\n",
    "result_unload_order_P1 = pd.DataFrame(columns = headers_unload_P1)\n",
    "a = 1\n",
    "for i in ships:\n",
    "    result_unload_order_P1.loc[len(result_unload_order_P1), \"index\"] = a\n",
    "    a += 1\n",
    "    result_unload_order_P1.loc[len(result_unload_order_P1)-1,\"name\"] = i\n",
    "    result_unload_order_P1.loc[len(result_unload_order_P1)-1,\"earliest arrival time\"] = arr.loc[i,\"arrival\"]\n",
    "    result_unload_order_P1.loc[len(result_unload_order_P1)-1,\"start time\"] = round(X[i,1].solution_value)\n",
    "    for alpha in sta:\n",
    "        if W[i,alpha].solution_value != 0.0:\n",
    "            result_unload_order_P1.loc[len(result_unload_order_P1)-1,\"unload at station\"] = W[i,alpha].solution_value*alpha\n",
    "for i in ships:\n",
    "    result_unload_order_P1[\"order\"] = result_unload_order_P1[\"start time\"].rank() \n",
    "result_unload_order_P1 = result_unload_order_P1.set_index(\"index\").rename_axis(\"ship i\")\n",
    "\n",
    "Sep_lists_P1 = []\n",
    "for i in range(len(sta)):\n",
    "    Sep_lists_P1.append([\"\" for j in range(21)])\n",
    "for i in ships:\n",
    "    for s in range(1, len(sta)):\n",
    "        for t in range(round(X[i, s].solution_value), round(X[i, s+1].solution_value)):\n",
    "            Sep_lists_P1[s-1][t-1] = i\n",
    "    for t in range(round(X[i, 4].solution_value), round(X[i, 4].solution_value + p[i, 4].solution_value)):\n",
    "        Sep_lists_P1[3][t-1] = i\n",
    "rows_P1 = [\"alpha = \"+str(i) for i in sta]\n",
    "final_result_P1 = pd.DataFrame(Sep_lists_P1, index = rows_P1, columns = [j for j in range(1,22)]).rename_axis(\"station | time\")"
   ]
  },
  {
   "cell_type": "code",
   "execution_count": 12,
   "metadata": {},
   "outputs": [
    {
     "name": "stdout",
     "output_type": "stream",
     "text": [
      "                   1      2      3        4        5        6        7   \\\n",
      "station | time                                                            \n",
      "alpha = 1       Kabul  Exxon  Exxon  Tornado    Moers  Opladen  Opladen   \n",
      "alpha = 2              Kabul           Exxon  Tornado    Moers            \n",
      "alpha = 3                     Kabul             Exxon  Tornado    Moers   \n",
      "alpha = 4                              Kabul             Exxon  Tornado   \n",
      "\n",
      "                     8        9        10  ...     12         13         14  \\\n",
      "station | time                             ...                                \n",
      "alpha = 1         Herta    Herta     Nina  ...   Nina  Clausthal              \n",
      "alpha = 2       Opladen             Herta  ...              Nina  Clausthal   \n",
      "alpha = 3                Opladen           ...                         Nina   \n",
      "alpha = 4         Moers    Moers  Opladen  ...  Herta                         \n",
      "\n",
      "                       15         16         17         18         19  \\\n",
      "station | time                                                          \n",
      "alpha = 1                                                               \n",
      "alpha = 2       Clausthal  Clausthal  Clausthal  Clausthal  Clausthal   \n",
      "alpha = 3                                                               \n",
      "alpha = 4            Nina                                               \n",
      "\n",
      "                       20         21  \n",
      "station | time                        \n",
      "alpha = 1                             \n",
      "alpha = 2                             \n",
      "alpha = 3       Clausthal             \n",
      "alpha = 4                  Clausthal  \n",
      "\n",
      "[4 rows x 21 columns]\n",
      "             name  order earliest arrival time start time unload at station\n",
      "ship i                                                                     \n",
      "1           Exxon    2.0                     1          2               1.0\n",
      "2            Nina    7.0                     1         10               1.0\n",
      "3           Moers    4.0                     5          5               4.0\n",
      "4         Tornado    3.0                     4          4               4.0\n",
      "5           Kabul    1.0                     1          1               4.0\n",
      "6       Clausthal    8.0                     6         13               2.0\n",
      "7         Opladen    5.0                     3          6               1.0\n",
      "8           Herta    6.0                     7          8               1.0\n"
     ]
    }
   ],
   "source": [
    "print(final_result_P1)\n",
    "print(result_unload_order_P1)"
   ]
  },
  {
   "cell_type": "markdown",
   "metadata": {},
   "source": [
    "#### Problem Instance 2"
   ]
  },
  {
   "cell_type": "markdown",
   "metadata": {},
   "source": [
    "##### Create the model instance"
   ]
  },
  {
   "cell_type": "code",
   "execution_count": 13,
   "metadata": {},
   "outputs": [],
   "source": [
    "model_P2 = Model(\"JettyScheduling_P2\")"
   ]
  },
  {
   "cell_type": "markdown",
   "metadata": {},
   "source": [
    "##### Define all sets"
   ]
  },
  {
   "cell_type": "code",
   "execution_count": 14,
   "metadata": {},
   "outputs": [],
   "source": [
    "data = pd.ExcelFile(\"inst2.xlsx\")\n",
    "ships = list(data.parse(\"Problem_2\", index_col = 0, header = None, usecols = \"G\", nrows = 10, skiprows = 2).index) #All the ships\n",
    "full_cat = data.parse(\"Problem_2\", index_col = 0, header = 0, usecols = \"G:H\", nrows = 10, skiprows = 1) #The categories of each ship\n",
    "sta_unstrip = list(data.parse(\"Problem_2\", index_col = None, header = 0, usecols = \"B:E\", nrows = 1, skiprows = 1).columns) #All the stations\n",
    "sta = list(map(int, [i.replace(\"P\", \"\") for i in sta_unstrip])) #All the stations' numbers\n",
    "arr = data.parse(\"Problem_2\", index_col = 0, header = 0, usecols = \"J:K\", nrows = 10, skiprows = 1) #Earliest arrival times of ship i\n",
    "unload = data.parse(\"Problem_2\", index_col = None, header = None, usecols = \"B:E\", nrows = 5, skiprows = 2) #Unloading time for ship category c at station alpha\n",
    "big_M = 10000"
   ]
  },
  {
   "cell_type": "code",
   "execution_count": 15,
   "metadata": {},
   "outputs": [
    {
     "name": "stdout",
     "output_type": "stream",
     "text": [
      "['Natalie', 'Neptun', 'Duandra', 'Waldhof', 'Panega', 'Megara', 'Onassis', 'Hansa', 'Carina', 'Atlantic']\n",
      "          category\n",
      "Natalie          2\n",
      "Neptun           2\n",
      "Duandra          3\n",
      "Waldhof          4\n",
      "Panega           1\n",
      "Megara           5\n",
      "Onassis          5\n",
      "Hansa            2\n",
      "Carina           4\n",
      "Atlantic         3\n",
      "[1, 2, 3, 4]\n",
      "          arrival\n",
      "Natalie         1\n",
      "Neptun          3\n",
      "Duandra         2\n",
      "Waldhof         7\n",
      "Panega          7\n",
      "Megara          7\n",
      "Onassis         3\n",
      "Hansa          11\n",
      "Carina          5\n",
      "Atlantic        4\n",
      "      1  2     3     4\n",
      "0     3  5     7  9999\n",
      "1  9999  6     7     9\n",
      "2     4  3     7     2\n",
      "3     5  7  9999     1\n",
      "4     2  5     9     7\n"
     ]
    }
   ],
   "source": [
    "print(ships)\n",
    "print(full_cat)\n",
    "print(sta)\n",
    "print(arr)\n",
    "print(unload)"
   ]
  },
  {
   "cell_type": "markdown",
   "metadata": {},
   "source": [
    "##### Define the decision variables"
   ]
  },
  {
   "cell_type": "code",
   "execution_count": 16,
   "metadata": {},
   "outputs": [],
   "source": [
    "X = model_P2.continuous_var_matrix(ships, sta, name = \"start_time\") #The starting time of ship i entering station alpha\n",
    "Y = model_P2.binary_var_dict(((i, j, alpha) for i in ships for j in ships for alpha in sta), name = \"order\") #1 if ship i is directly or indirectly in front of ship j in station alpha\n",
    "W = model_P2.binary_var_matrix(ships, sta, name = \"unload_station\") #1 if ship i unloads at station alpha\n",
    "p = model_P2.continuous_var_matrix(ships, sta, name = \"process_time\") #Processing time for ship i in station alpha"
   ]
  },
  {
   "cell_type": "markdown",
   "metadata": {},
   "source": [
    "##### Define all constraints"
   ]
  },
  {
   "cell_type": "code",
   "execution_count": 17,
   "metadata": {},
   "outputs": [
    {
     "data": {
      "text/plain": [
       "[docplex.mp.LinearConstraint[](process_time_Natalie_1,EQ,9998unload_station_Natalie_1+1),\n",
       " docplex.mp.LinearConstraint[](process_time_Natalie_2,EQ,5unload_station_Natalie_2+1),\n",
       " docplex.mp.LinearConstraint[](process_time_Natalie_3,EQ,6unload_station_Natalie_3+1),\n",
       " docplex.mp.LinearConstraint[](process_time_Natalie_4,EQ,8unload_station_Natalie_4+1),\n",
       " docplex.mp.LinearConstraint[](process_time_Neptun_1,EQ,9998unload_station_Neptun_1+1),\n",
       " docplex.mp.LinearConstraint[](process_time_Neptun_2,EQ,5unload_station_Neptun_2+1),\n",
       " docplex.mp.LinearConstraint[](process_time_Neptun_3,EQ,6unload_station_Neptun_3+1),\n",
       " docplex.mp.LinearConstraint[](process_time_Neptun_4,EQ,8unload_station_Neptun_4+1),\n",
       " docplex.mp.LinearConstraint[](process_time_Duandra_1,EQ,3unload_station_Duandra_1+1),\n",
       " docplex.mp.LinearConstraint[](process_time_Duandra_2,EQ,2unload_station_Duandra_2+1),\n",
       " docplex.mp.LinearConstraint[](process_time_Duandra_3,EQ,6unload_station_Duandra_3+1),\n",
       " docplex.mp.LinearConstraint[](process_time_Duandra_4,EQ,unload_station_Duandra_4+1),\n",
       " docplex.mp.LinearConstraint[](process_time_Waldhof_1,EQ,4unload_station_Waldhof_1+1),\n",
       " docplex.mp.LinearConstraint[](process_time_Waldhof_2,EQ,6unload_station_Waldhof_2+1),\n",
       " docplex.mp.LinearConstraint[](process_time_Waldhof_3,EQ,9998unload_station_Waldhof_3+1),\n",
       " docplex.mp.LinearConstraint[](process_time_Waldhof_4,EQ,1),\n",
       " docplex.mp.LinearConstraint[](process_time_Panega_1,EQ,2unload_station_Panega_1+1),\n",
       " docplex.mp.LinearConstraint[](process_time_Panega_2,EQ,4unload_station_Panega_2+1),\n",
       " docplex.mp.LinearConstraint[](process_time_Panega_3,EQ,6unload_station_Panega_3+1),\n",
       " docplex.mp.LinearConstraint[](process_time_Panega_4,EQ,9998unload_station_Panega_4+1),\n",
       " docplex.mp.LinearConstraint[](process_time_Megara_1,EQ,unload_station_Megara_1+1),\n",
       " docplex.mp.LinearConstraint[](process_time_Megara_2,EQ,4unload_station_Megara_2+1),\n",
       " docplex.mp.LinearConstraint[](process_time_Megara_3,EQ,8unload_station_Megara_3+1),\n",
       " docplex.mp.LinearConstraint[](process_time_Megara_4,EQ,6unload_station_Megara_4+1),\n",
       " docplex.mp.LinearConstraint[](process_time_Onassis_1,EQ,unload_station_Onassis_1+1),\n",
       " docplex.mp.LinearConstraint[](process_time_Onassis_2,EQ,4unload_station_Onassis_2+1),\n",
       " docplex.mp.LinearConstraint[](process_time_Onassis_3,EQ,8unload_station_Onassis_3+1),\n",
       " docplex.mp.LinearConstraint[](process_time_Onassis_4,EQ,6unload_station_Onassis_4+1),\n",
       " docplex.mp.LinearConstraint[](process_time_Hansa_1,EQ,9998unload_station_Hansa_1+1),\n",
       " docplex.mp.LinearConstraint[](process_time_Hansa_2,EQ,5unload_station_Hansa_2+1),\n",
       " docplex.mp.LinearConstraint[](process_time_Hansa_3,EQ,6unload_station_Hansa_3+1),\n",
       " docplex.mp.LinearConstraint[](process_time_Hansa_4,EQ,8unload_station_Hansa_4+1),\n",
       " docplex.mp.LinearConstraint[](process_time_Carina_1,EQ,4unload_station_Carina_1+1),\n",
       " docplex.mp.LinearConstraint[](process_time_Carina_2,EQ,6unload_station_Carina_2+1),\n",
       " docplex.mp.LinearConstraint[](process_time_Carina_3,EQ,9998unload_station_Carina_3+1),\n",
       " docplex.mp.LinearConstraint[](process_time_Carina_4,EQ,1),\n",
       " docplex.mp.LinearConstraint[](process_time_Atlantic_1,EQ,3unload_station_Atlantic_1+1),\n",
       " docplex.mp.LinearConstraint[](process_time_Atlantic_2,EQ,2unload_station_Atlantic_2+1),\n",
       " docplex.mp.LinearConstraint[](process_time_Atlantic_3,EQ,6unload_station_Atlantic_3+1),\n",
       " docplex.mp.LinearConstraint[](process_time_Atlantic_4,EQ,unload_station_Atlantic_4+1)]"
      ]
     },
     "execution_count": 17,
     "metadata": {},
     "output_type": "execute_result"
    }
   ],
   "source": [
    "model_P2.add_constraints(X[i,1] >= arr.loc[i,\"arrival\"] for i in ships) #The earliest start time into station 1 is not earlier than the earliest arrival time\n",
    "model_P2.add_constraints(X[i,alpha+1] >= X[i,alpha]+p[i,alpha] for i in ships for alpha in range(1, len(sta))) #The earliest start time for ship i to enter the next station is only after ship i finishes processing in the previous station\n",
    "model_P2.add_constraints(X[j,alpha] >= X[i,alpha]+p[i,alpha]+(Y[i,j,alpha]-1)*big_M for i in ships for j in ships if j!=i for alpha in sta) #Ship j can only start after ship i finish processing in station i if it is behind ship i, otherwise ship j can start at any time (under other constraints) in station i\n",
    "model_P2.add_constraints(X[j,alpha] >= X[i,alpha]+X[i,alpha+1]-X[i,alpha]+(Y[i,j,alpha]-1)*big_M for i in ships for j in ships if j!=i for alpha in range(1, len(sta))) #Another constraints for ship j to be only able to start after ship i finish processing in station i if it is behind ship i, otherwise ship j can start at any time (under other constraints) in station i \n",
    "model_P2.add_constraints(Y[i,j,alpha]+Y[j,i,alpha] == 1 for i in ships for j in ships if j!=i for alpha in sta) #Ensure that either ship i is in front of ship j or ship j is in front of ship i\n",
    "model_P2.add_constraints(Y[i,j,alpha] == Y[i,j,alpha+1] for i in ships for j in ships if j!=i for alpha in range(1, len(sta))) #If ship i is in front ship j in station alpha, ship i should also be in front of ship j in other stations\n",
    "model_P2.add_constraints(model_P2.sum(W[i,alpha] for alpha in sta) == 1 for i in ships) #Each ship i can only unload in one station\n",
    "model_P2.add_constraints(p[i,alpha] == 1+W[i,alpha]*(unload.loc[full_cat.loc[i,\"category\"]-1,alpha]-1) for i in ships for alpha in sta)#Processing time in the station is either 1 (when pass by) or the unloading time"
   ]
  },
  {
   "cell_type": "markdown",
   "metadata": {},
   "source": [
    "##### Define linear expression"
   ]
  },
  {
   "cell_type": "code",
   "execution_count": 18,
   "metadata": {},
   "outputs": [],
   "source": [
    "J = model_P2.sum(X[i,4]+p[i,4]-arr.loc[i,\"arrival\"] for i in ships)"
   ]
  },
  {
   "cell_type": "markdown",
   "metadata": {},
   "source": [
    "##### Define the objective function"
   ]
  },
  {
   "cell_type": "code",
   "execution_count": 19,
   "metadata": {},
   "outputs": [],
   "source": [
    "model_P2.minimize(J)"
   ]
  },
  {
   "cell_type": "markdown",
   "metadata": {},
   "source": [
    "##### Solve the model"
   ]
  },
  {
   "cell_type": "code",
   "execution_count": 20,
   "metadata": {},
   "outputs": [
    {
     "ename": "DOcplexLimitsExceeded",
     "evalue": "**** Promotional version. Problem size limits (1000 vars, 1000 consts) exceeded, model has 520 vars, 1350 consts, CPLEX code=1016",
     "output_type": "error",
     "traceback": [
      "\u001b[0;31m---------------------------------------------------------------------------\u001b[0m",
      "\u001b[0;31mCplexSolverError\u001b[0m                          Traceback (most recent call last)",
      "\u001b[0;32m~/opt/anaconda3/lib/python3.9/site-packages/docplex/mp/cplex_engine.py\u001b[0m in \u001b[0;36msolve\u001b[0;34m(self, mdl, parameters, **kwargs)\u001b[0m\n\u001b[1;32m   1967\u001b[0m             \u001b[0;32melse\u001b[0m\u001b[0;34m:\u001b[0m\u001b[0;34m\u001b[0m\u001b[0;34m\u001b[0m\u001b[0m\n\u001b[0;32m-> 1968\u001b[0;31m                 \u001b[0mcpx\u001b[0m\u001b[0;34m.\u001b[0m\u001b[0msolve\u001b[0m\u001b[0;34m(\u001b[0m\u001b[0;34m)\u001b[0m\u001b[0;34m\u001b[0m\u001b[0;34m\u001b[0m\u001b[0m\n\u001b[0m\u001b[1;32m   1969\u001b[0m \u001b[0;34m\u001b[0m\u001b[0m\n",
      "\u001b[0;32m~/opt/anaconda3/lib/python3.9/site-packages/cplex/__init__.py\u001b[0m in \u001b[0;36msolve\u001b[0;34m(self, paramsets)\u001b[0m\n\u001b[1;32m   1368\u001b[0m             \u001b[0;32melse\u001b[0m\u001b[0;34m:\u001b[0m\u001b[0;34m\u001b[0m\u001b[0;34m\u001b[0m\u001b[0m\n\u001b[0;32m-> 1369\u001b[0;31m                 \u001b[0m_proc\u001b[0m\u001b[0;34m.\u001b[0m\u001b[0mmipopt\u001b[0m\u001b[0;34m(\u001b[0m\u001b[0mself\u001b[0m\u001b[0;34m.\u001b[0m\u001b[0m_env\u001b[0m\u001b[0;34m.\u001b[0m\u001b[0m_e\u001b[0m\u001b[0;34m,\u001b[0m \u001b[0mself\u001b[0m\u001b[0;34m.\u001b[0m\u001b[0m_lp\u001b[0m\u001b[0;34m)\u001b[0m\u001b[0;34m\u001b[0m\u001b[0;34m\u001b[0m\u001b[0m\n\u001b[0m\u001b[1;32m   1370\u001b[0m         \u001b[0;32melif\u001b[0m \u001b[0mself\u001b[0m\u001b[0;34m.\u001b[0m\u001b[0mquadratic_constraints\u001b[0m\u001b[0;34m.\u001b[0m\u001b[0mget_num\u001b[0m\u001b[0;34m(\u001b[0m\u001b[0;34m)\u001b[0m \u001b[0;34m>\u001b[0m \u001b[0;36m0\u001b[0m\u001b[0;34m:\u001b[0m\u001b[0;34m\u001b[0m\u001b[0;34m\u001b[0m\u001b[0m\n",
      "\u001b[0;32m~/opt/anaconda3/lib/python3.9/site-packages/cplex/_internal/_procedural.py\u001b[0m in \u001b[0;36mmipopt\u001b[0;34m(env, lp)\u001b[0m\n\u001b[1;32m    707\u001b[0m         \u001b[0mstatus\u001b[0m \u001b[0;34m=\u001b[0m \u001b[0mCR\u001b[0m\u001b[0;34m.\u001b[0m\u001b[0mCPXXmipopt\u001b[0m\u001b[0;34m(\u001b[0m\u001b[0menv\u001b[0m\u001b[0;34m,\u001b[0m \u001b[0mlp\u001b[0m\u001b[0;34m)\u001b[0m\u001b[0;34m\u001b[0m\u001b[0;34m\u001b[0m\u001b[0m\n\u001b[0;32m--> 708\u001b[0;31m     \u001b[0mcheck_status\u001b[0m\u001b[0;34m(\u001b[0m\u001b[0menv\u001b[0m\u001b[0;34m,\u001b[0m \u001b[0mstatus\u001b[0m\u001b[0;34m)\u001b[0m\u001b[0;34m\u001b[0m\u001b[0;34m\u001b[0m\u001b[0m\n\u001b[0m\u001b[1;32m    709\u001b[0m \u001b[0;34m\u001b[0m\u001b[0m\n",
      "\u001b[0;32m~/opt/anaconda3/lib/python3.9/site-packages/cplex/_internal/_procedural.py\u001b[0m in \u001b[0;36m__call__\u001b[0;34m(self, env, status, from_cb)\u001b[0m\n\u001b[1;32m    248\u001b[0m                     \u001b[0merror_string\u001b[0m \u001b[0;34m=\u001b[0m \u001b[0mgeterrorstring\u001b[0m\u001b[0;34m(\u001b[0m\u001b[0menv\u001b[0m\u001b[0;34m,\u001b[0m \u001b[0mstatus\u001b[0m\u001b[0;34m)\u001b[0m\u001b[0;34m\u001b[0m\u001b[0;34m\u001b[0m\u001b[0m\n\u001b[0;32m--> 249\u001b[0;31m             \u001b[0;32mraise\u001b[0m \u001b[0mCplexSolverError\u001b[0m\u001b[0;34m(\u001b[0m\u001b[0merror_string\u001b[0m\u001b[0;34m,\u001b[0m \u001b[0menv\u001b[0m\u001b[0;34m,\u001b[0m \u001b[0mstatus\u001b[0m\u001b[0;34m)\u001b[0m\u001b[0;34m\u001b[0m\u001b[0;34m\u001b[0m\u001b[0m\n\u001b[0m\u001b[1;32m    250\u001b[0m \u001b[0;34m\u001b[0m\u001b[0m\n",
      "\u001b[0;31mCplexSolverError\u001b[0m: CPLEX Error  1016: Community Edition. Problem size limits exceeded. Purchase at http://ibm.biz/error1016.",
      "\nDuring handling of the above exception, another exception occurred:\n",
      "\u001b[0;31mDOcplexLimitsExceeded\u001b[0m                     Traceback (most recent call last)",
      "\u001b[0;32m/var/folders/z0/fzqbfvyn5_d5s0732m1f30yr0000gn/T/ipykernel_5478/3509420190.py\u001b[0m in \u001b[0;36m<module>\u001b[0;34m\u001b[0m\n\u001b[0;32m----> 1\u001b[0;31m \u001b[0mmodel_P2\u001b[0m\u001b[0;34m.\u001b[0m\u001b[0msolve\u001b[0m\u001b[0;34m(\u001b[0m\u001b[0;34m)\u001b[0m\u001b[0;34m\u001b[0m\u001b[0;34m\u001b[0m\u001b[0m\n\u001b[0m",
      "\u001b[0;32m~/opt/anaconda3/lib/python3.9/site-packages/docplex/mp/model.py\u001b[0m in \u001b[0;36msolve\u001b[0;34m(self, **kwargs)\u001b[0m\n\u001b[1;32m   4825\u001b[0m                 \u001b[0;31m# take arg clean flag or this model's\u001b[0m\u001b[0;34m\u001b[0m\u001b[0;34m\u001b[0m\u001b[0m\n\u001b[1;32m   4826\u001b[0m                 \u001b[0mused_clean_before_solve\u001b[0m \u001b[0;34m=\u001b[0m \u001b[0mkwargs\u001b[0m\u001b[0;34m.\u001b[0m\u001b[0mget\u001b[0m\u001b[0;34m(\u001b[0m\u001b[0;34m'clean_before_solve'\u001b[0m\u001b[0;34m,\u001b[0m \u001b[0mself\u001b[0m\u001b[0;34m.\u001b[0m\u001b[0mclean_before_solve\u001b[0m\u001b[0;34m)\u001b[0m\u001b[0;34m\u001b[0m\u001b[0;34m\u001b[0m\u001b[0m\n\u001b[0;32m-> 4827\u001b[0;31m                 \u001b[0;32mreturn\u001b[0m \u001b[0mself\u001b[0m\u001b[0;34m.\u001b[0m\u001b[0m_solve_local\u001b[0m\u001b[0;34m(\u001b[0m\u001b[0mcontext\u001b[0m\u001b[0;34m,\u001b[0m \u001b[0mused_clean_before_solve\u001b[0m\u001b[0;34m,\u001b[0m \u001b[0mlex_timelimits\u001b[0m\u001b[0;34m,\u001b[0m \u001b[0mlex_mipgaps\u001b[0m\u001b[0;34m)\u001b[0m\u001b[0;34m\u001b[0m\u001b[0;34m\u001b[0m\u001b[0m\n\u001b[0m\u001b[1;32m   4828\u001b[0m             \u001b[0;32melse\u001b[0m\u001b[0;34m:\u001b[0m\u001b[0;34m\u001b[0m\u001b[0;34m\u001b[0m\u001b[0m\n\u001b[1;32m   4829\u001b[0m                 \u001b[0;32mreturn\u001b[0m \u001b[0mself\u001b[0m\u001b[0;34m.\u001b[0m\u001b[0mfatal\u001b[0m\u001b[0;34m(\u001b[0m\u001b[0;34m\"Cannot solve model: no CPLEX runtime found.\"\u001b[0m\u001b[0;34m)\u001b[0m\u001b[0;34m\u001b[0m\u001b[0;34m\u001b[0m\u001b[0m\n",
      "\u001b[0;32m~/opt/anaconda3/lib/python3.9/site-packages/docplex/mp/model.py\u001b[0m in \u001b[0;36m_solve_local\u001b[0;34m(self, context, clean_before_solve, lex_timelimits, lex_mipgaps)\u001b[0m\n\u001b[1;32m   4874\u001b[0m         \u001b[0;32mexcept\u001b[0m \u001b[0mDOcplexException\u001b[0m \u001b[0;32mas\u001b[0m \u001b[0mdocpx_e\u001b[0m\u001b[0;34m:\u001b[0m  \u001b[0;31m# pragma: no cover\u001b[0m\u001b[0;34m\u001b[0m\u001b[0;34m\u001b[0m\u001b[0m\n\u001b[1;32m   4875\u001b[0m             \u001b[0mnew_solution\u001b[0m \u001b[0;34m=\u001b[0m \u001b[0;32mNone\u001b[0m\u001b[0;34m\u001b[0m\u001b[0;34m\u001b[0m\u001b[0m\n\u001b[0;32m-> 4876\u001b[0;31m             \u001b[0;32mraise\u001b[0m \u001b[0mdocpx_e\u001b[0m\u001b[0;34m\u001b[0m\u001b[0;34m\u001b[0m\u001b[0m\n\u001b[0m\u001b[1;32m   4877\u001b[0m \u001b[0;34m\u001b[0m\u001b[0m\n\u001b[1;32m   4878\u001b[0m         \u001b[0;32mexcept\u001b[0m \u001b[0mException\u001b[0m \u001b[0;32mas\u001b[0m \u001b[0me\u001b[0m\u001b[0;34m:\u001b[0m\u001b[0;34m\u001b[0m\u001b[0;34m\u001b[0m\u001b[0m\n",
      "\u001b[0;32m~/opt/anaconda3/lib/python3.9/site-packages/docplex/mp/model.py\u001b[0m in \u001b[0;36m_solve_local\u001b[0;34m(self, context, clean_before_solve, lex_timelimits, lex_mipgaps)\u001b[0m\n\u001b[1;32m   4862\u001b[0m             \u001b[0mself\u001b[0m\u001b[0;34m.\u001b[0m\u001b[0m_apply_parameters_to_engine\u001b[0m\u001b[0;34m(\u001b[0m\u001b[0mused_parameters\u001b[0m\u001b[0;34m)\u001b[0m\u001b[0;34m\u001b[0m\u001b[0;34m\u001b[0m\u001b[0m\n\u001b[1;32m   4863\u001b[0m \u001b[0;34m\u001b[0m\u001b[0m\n\u001b[0;32m-> 4864\u001b[0;31m             new_solution = self_engine.solve(self,\n\u001b[0m\u001b[1;32m   4865\u001b[0m                                              \u001b[0mparameters\u001b[0m\u001b[0;34m=\u001b[0m\u001b[0mused_parameters\u001b[0m\u001b[0;34m,\u001b[0m\u001b[0;34m\u001b[0m\u001b[0;34m\u001b[0m\u001b[0m\n\u001b[1;32m   4866\u001b[0m                                              \u001b[0mclean_before_solve\u001b[0m\u001b[0;34m=\u001b[0m\u001b[0mclean_before_solve\u001b[0m\u001b[0;34m,\u001b[0m\u001b[0;34m\u001b[0m\u001b[0;34m\u001b[0m\u001b[0m\n",
      "\u001b[0;32m~/opt/anaconda3/lib/python3.9/site-packages/docplex/mp/cplex_engine.py\u001b[0m in \u001b[0;36msolve\u001b[0;34m(self, mdl, parameters, **kwargs)\u001b[0m\n\u001b[1;32m   2002\u001b[0m                 \u001b[0mcpx_status\u001b[0m \u001b[0;34m=\u001b[0m \u001b[0;36m1016\u001b[0m\u001b[0;34m\u001b[0m\u001b[0;34m\u001b[0m\u001b[0m\n\u001b[1;32m   2003\u001b[0m                 \u001b[0mcpx_status_string\u001b[0m \u001b[0;34m=\u001b[0m \u001b[0;34m\"Promotional version. Problem size limits exceeded., CPLEX code=1016.\"\u001b[0m\u001b[0;34m\u001b[0m\u001b[0;34m\u001b[0m\u001b[0m\n\u001b[0;32m-> 2004\u001b[0;31m                 \u001b[0mself\u001b[0m\u001b[0;34m.\u001b[0m\u001b[0m_model\u001b[0m\u001b[0;34m.\u001b[0m\u001b[0mfatal_ce_limits\u001b[0m\u001b[0;34m(\u001b[0m\u001b[0;34m)\u001b[0m\u001b[0;34m\u001b[0m\u001b[0;34m\u001b[0m\u001b[0m\n\u001b[0m\u001b[1;32m   2005\u001b[0m \u001b[0;34m\u001b[0m\u001b[0m\n\u001b[1;32m   2006\u001b[0m             \u001b[0;32melif\u001b[0m \u001b[0mself\u001b[0m\u001b[0;34m.\u001b[0m\u001b[0mfix_multiobj_error_1300\u001b[0m \u001b[0;32mand\u001b[0m \u001b[0;36m1300\u001b[0m \u001b[0;34m==\u001b[0m \u001b[0mcpx_code\u001b[0m\u001b[0;34m:\u001b[0m\u001b[0;34m\u001b[0m\u001b[0;34m\u001b[0m\u001b[0m\n",
      "\u001b[0;32m~/opt/anaconda3/lib/python3.9/site-packages/docplex/mp/model.py\u001b[0m in \u001b[0;36mfatal_ce_limits\u001b[0;34m(self, *args)\u001b[0m\n\u001b[1;32m   1088\u001b[0m         \u001b[0mnb_constraints\u001b[0m \u001b[0;34m=\u001b[0m \u001b[0mself\u001b[0m\u001b[0;34m.\u001b[0m\u001b[0mnumber_of_constraints\u001b[0m\u001b[0;34m\u001b[0m\u001b[0;34m\u001b[0m\u001b[0m\n\u001b[1;32m   1089\u001b[0m \u001b[0;34m\u001b[0m\u001b[0m\n\u001b[0;32m-> 1090\u001b[0;31m         \u001b[0mself\u001b[0m\u001b[0;34m.\u001b[0m\u001b[0m_error_handler\u001b[0m\u001b[0;34m.\u001b[0m\u001b[0mfatal_limits_exceeded\u001b[0m\u001b[0;34m(\u001b[0m\u001b[0mnb_vars\u001b[0m\u001b[0;34m,\u001b[0m \u001b[0mnb_constraints\u001b[0m\u001b[0;34m)\u001b[0m\u001b[0;34m\u001b[0m\u001b[0;34m\u001b[0m\u001b[0m\n\u001b[0m\u001b[1;32m   1091\u001b[0m \u001b[0;34m\u001b[0m\u001b[0m\n\u001b[1;32m   1092\u001b[0m     \u001b[0;32mdef\u001b[0m \u001b[0merror\u001b[0m\u001b[0;34m(\u001b[0m\u001b[0mself\u001b[0m\u001b[0;34m,\u001b[0m \u001b[0mmsg\u001b[0m\u001b[0;34m,\u001b[0m \u001b[0;34m*\u001b[0m\u001b[0margs\u001b[0m\u001b[0;34m)\u001b[0m\u001b[0;34m:\u001b[0m\u001b[0;34m\u001b[0m\u001b[0;34m\u001b[0m\u001b[0m\n",
      "\u001b[0;32m~/opt/anaconda3/lib/python3.9/site-packages/docplex/mp/error_handler.py\u001b[0m in \u001b[0;36mfatal_limits_exceeded\u001b[0;34m(self, nb_vars, nb_constraints)\u001b[0m\n\u001b[1;32m    212\u001b[0m     \u001b[0;32mdef\u001b[0m \u001b[0mfatal_limits_exceeded\u001b[0m\u001b[0;34m(\u001b[0m\u001b[0mself\u001b[0m\u001b[0;34m,\u001b[0m \u001b[0mnb_vars\u001b[0m\u001b[0;34m,\u001b[0m \u001b[0mnb_constraints\u001b[0m\u001b[0;34m)\u001b[0m\u001b[0;34m:\u001b[0m\u001b[0;34m\u001b[0m\u001b[0;34m\u001b[0m\u001b[0m\n\u001b[1;32m    213\u001b[0m         \u001b[0mdocplex_error_stop_here\u001b[0m\u001b[0;34m(\u001b[0m\u001b[0;34m)\u001b[0m\u001b[0;34m\u001b[0m\u001b[0;34m\u001b[0m\u001b[0m\n\u001b[0;32m--> 214\u001b[0;31m         \u001b[0;32mraise\u001b[0m \u001b[0mDOcplexLimitsExceeded\u001b[0m\u001b[0;34m(\u001b[0m\u001b[0mnb_vars\u001b[0m\u001b[0;34m,\u001b[0m \u001b[0mnb_constraints\u001b[0m\u001b[0;34m)\u001b[0m\u001b[0;34m\u001b[0m\u001b[0;34m\u001b[0m\u001b[0m\n\u001b[0m\u001b[1;32m    215\u001b[0m \u001b[0;34m\u001b[0m\u001b[0m\n\u001b[1;32m    216\u001b[0m \u001b[0;34m\u001b[0m\u001b[0m\n",
      "\u001b[0;31mDOcplexLimitsExceeded\u001b[0m: **** Promotional version. Problem size limits (1000 vars, 1000 consts) exceeded, model has 520 vars, 1350 consts, CPLEX code=1016"
     ]
    }
   ],
   "source": [
    "model_P2.solve()"
   ]
  },
  {
   "cell_type": "code",
   "execution_count": null,
   "metadata": {},
   "outputs": [],
   "source": [
    "model_P2.solve_details\n",
    "model_P2.report()\n",
    "model_P2.print_information()\n",
    "model_P2.print_solution()"
   ]
  },
  {
   "cell_type": "markdown",
   "metadata": {},
   "source": [
    "##### Store the results"
   ]
  },
  {
   "cell_type": "code",
   "execution_count": null,
   "metadata": {},
   "outputs": [],
   "source": [
    "headers_unload_P2 = [\"index\",\"name\", \"order\", \"earliest arrival time\", \"start time\", \"unload at station\"]\n",
    "result_unload_order_P2 = pd.DataFrame(columns = headers_unload_P2)\n",
    "a = 1\n",
    "for i in ships:\n",
    "    result_unload_order_P2.loc[len(result_unload_order_P2), \"index\"] = a\n",
    "    a += 1\n",
    "    result_unload_order_P2.loc[len(result_unload_order_P2)-1,\"name\"] = i\n",
    "    result_unload_order_P2.loc[len(result_unload_order_P2)-1,\"earliest arrival time\"] = arr.loc[i,\"arrival\"]\n",
    "    result_unload_order_P2.loc[len(result_unload_order_P2)-1,\"start time\"] = round(X[i,1].solution_value)\n",
    "    for alpha in sta:\n",
    "        if W[i,alpha].solution_value != 0:\n",
    "            result_unload_order_P2.loc[len(result_unload_order_P2)-1,\"unload at station\"] = W[i,alpha].solution_value*alpha\n",
    "for i in ships:\n",
    "    result_unload_order_P2[\"order\"] = result_unload_order_P2[\"start time\"].rank() \n",
    "result_unload_order_P2 = result_unload_order_P2.set_index(\"index\").rename_axis(\"ship i\")\n",
    "\n",
    "Sep_lists_P2 = []\n",
    "for i in range(len(sta)):\n",
    "    Sep_lists_P2.append([\"\" for j in range(27)])\n",
    "for i in ships:\n",
    "    for s in range(1, len(sta)):\n",
    "        for t in range(round(X[i, s].solution_value), round(X[i, s+1].solution_value)):\n",
    "            Sep_lists_P2[s-1][t-1] = i\n",
    "    for t in range(round(X[i, 4].solution_value), round(X[i, 4].solution_value + p[i, 4].solution_value)):\n",
    "        Sep_lists_P2[3][t-1] = i\n",
    "rows_P2 = [\"alpha = \"+str(i) for i in sta]\n",
    "final_result_P2 = pd.DataFrame(Sep_lists_P2, index = rows_P2, columns = [j for j in range(1,28)]).rename_axis(\"station | time\")"
   ]
  },
  {
   "cell_type": "code",
   "execution_count": null,
   "metadata": {},
   "outputs": [],
   "source": [
    "print(final_result_P2)\n",
    "print(result_unload_order_P2)"
   ]
  },
  {
   "cell_type": "markdown",
   "metadata": {},
   "source": [
    "#### Save the results"
   ]
  },
  {
   "cell_type": "code",
   "execution_count": null,
   "metadata": {},
   "outputs": [],
   "source": [
    "with pd.ExcelWriter(\"Jetty_Scheuling.xlsx\") as writer:\n",
    "    result_unload_order_P1.to_excel(writer, sheet_name = \"Problem 1_Order\")\n",
    "    final_result_P1.to_excel(writer, sheet_name = \"Problem 1_Final Result\")\n",
    "    result_unload_order_P2.to_excel(writer, sheet_name = \"Problem 2_Order\")\n",
    "    final_result_P2.to_excel(writer, sheet_name = \"Problem 2_Final Result\")"
   ]
  }
 ],
 "metadata": {
  "kernelspec": {
   "display_name": "Python 3 (ipykernel)",
   "language": "python",
   "name": "python3"
  },
  "language_info": {
   "codemirror_mode": {
    "name": "ipython",
    "version": 3
   },
   "file_extension": ".py",
   "mimetype": "text/x-python",
   "name": "python",
   "nbconvert_exporter": "python",
   "pygments_lexer": "ipython3",
   "version": "3.9.7"
  }
 },
 "nbformat": 4,
 "nbformat_minor": 4
}
